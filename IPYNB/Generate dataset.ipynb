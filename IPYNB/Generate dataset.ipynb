{
 "cells": [
  {
   "cell_type": "code",
   "execution_count": null,
   "metadata": {},
   "outputs": [],
   "source": [
    "import rasterio\n",
    "import shapely\n",
    "from shapely.geometry import (Polygon, shape)\n",
    "from rasterio.mask import mask\n",
    "from pyproj import Proj, transform\n",
    "import geopandas as gpd\n",
    "import os"
   ]
  },
  {
   "cell_type": "code",
   "execution_count": null,
   "metadata": {},
   "outputs": [],
   "source": [
    "materials = [\"concrete_cement\",\"healthy_metal\",\"incomplete\",\"irregular_metal\",\"other\"]\n",
    "for name in materials:\n",
    "    os.makedirs('Processed data/train/'+name)\n",
    "    \n",
    "os.makedirs('Processed data/test')"
   ]
  },
  {
   "cell_type": "code",
   "execution_count": null,
   "metadata": {},
   "outputs": [],
   "source": [
    "for country in [\"colombia\", \"guatemala\", \"st_lucia\"]:\n",
    "    regions = {\"st_lucia\":[\"dennery\"], \"colombia\":[\"borde_rural\",\"borde_soacha\"], \"guatemala\":[\"mixco_1_and_ebenezer\",\"mixco_3\"]}\n",
    "    for region in regions[country]:\n",
    "        src = rasterio.open('/home/cupgreek/Documents/stac/'+country+'/'+region+'/'+region+'_ortho-cog.tif')\n",
    "        print(region+':'+str(src.crs))"
   ]
  },
  {
   "cell_type": "code",
   "execution_count": null,
   "metadata": {},
   "outputs": [],
   "source": [
    "#Function to extract the rooftop image from the source image and save it in '.tif' format\n",
    "epsg = {'colombia':'32618', 'guatemala':'32616', 'st_lucia':'32620'}\n",
    "for country in ['colombia','guatemala','st_lucia']:\n",
    "    regions = {'st_lucia':['dennery'], 'colombia':['borde_rural','borde_soacha'], 'guatemala':['mixco_1_and_ebenezer','mixco_3']}\n",
    "    for region in regions[country]:\n",
    "        src = rasterio.open('/home/cupgreek/Documents/stac/'+country+'/'+region+'/'+region+'_ortho-cog.tif')\n",
    "        for case in ['train', 'test']:\n",
    "            aoi_geojson = gpd.read_file('/home/cupgreek/Documents/stac/'+country+'/'+region+'/'+case+'-'+region+'.geojson')\n",
    "            for i in range(aoi_geojson.shape[0]):\n",
    "                cord = aoi_geojson['geometry'][i].bounds\n",
    "                inProj = Proj(init = 'epsg:4326')\n",
    "                print(country,epsg[country],'epsg:'+epsg[country])\n",
    "                outProj = Proj(init = 'epsg:'+epsg[country])\n",
    "                (x1,y1,x2,y2) = cord\n",
    "                x1_new,y1_new = transform(inProj,outProj,x1,y1)\n",
    "                x2_new,y2_new = transform(inProj,outProj,x2,y2)\n",
    "                ar_new = shapely.geometry.box(x1_new, y1_new, x2_new, y2_new, ccw=True)\n",
    "                crop, cropTransform = mask(src, [ar_new], crop=True)\n",
    "                meta = src.meta.copy()\n",
    "                meta.update({'transform':cropTransform, 'height':crop.shape[1], 'width':crop.shape[2]})\n",
    "                if case == 'train':\n",
    "                    with rasterio.open('Processed data/'+case+'/'+aoi_geojson['roof_material'][i]+'/'+aoi_geojson['id'][i]+'.tif', 'w', **meta) as dst:\n",
    "                        dst.write(crop)\n",
    "                if case == 'test':\n",
    "                    with rasterio.open('Processed data/'+case+'/'+aoi_geojson['id'][i]+'.tif', 'w', **meta) as dst:\n",
    "                        dst.write(crop)"
   ]
  }
 ],
 "metadata": {
  "kernelspec": {
   "display_name": "Python 3",
   "language": "python",
   "name": "python3"
  },
  "language_info": {
   "codemirror_mode": {
    "name": "ipython",
    "version": 3
   },
   "file_extension": ".py",
   "mimetype": "text/x-python",
   "name": "python",
   "nbconvert_exporter": "python",
   "pygments_lexer": "ipython3",
   "version": "3.7.5"
  }
 },
 "nbformat": 4,
 "nbformat_minor": 2
}
