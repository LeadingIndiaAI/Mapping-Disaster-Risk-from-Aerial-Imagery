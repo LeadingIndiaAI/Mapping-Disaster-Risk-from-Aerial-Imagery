{
 "cells": [
  {
   "cell_type": "code",
   "execution_count": 3,
   "metadata": {},
   "outputs": [],
   "source": [
    "import rasterio\n",
    "import shapely\n",
    "from shapely.geometry import (Polygon, shape)\n",
    "from rasterio.mask import mask\n",
    "from pyproj import Proj, transform\n",
    "import geopandas as gpd"
   ]
  },
  {
   "cell_type": "code",
   "execution_count": null,
   "metadata": {},
   "outputs": [],
   "source": []
  },
  {
   "cell_type": "code",
   "execution_count": 4,
   "metadata": {},
   "outputs": [],
   "source": [
    "#Function to extract the rooftop image from the source image and save it in '.tif' format\n",
    "src = rasterio.open('/home/amit/guatemala/mixco_1_and_ebenezer/mixco_1_and_ebenezer_ortho-cog.tif')\n",
    "aoi_geojson = gpd.read_file('/home/amit/guatemala/mixco_1_and_ebenezer/train-mixco_1_and_ebenezer.geojson')\n",
    "for i in range(aoi_geojson.shape[0]):\n",
    "    cord = aoi_geojson['geometry'][i].bounds\n",
    "    inProj = Proj(init='epsg:4326')\n",
    "    outProj = Proj(init='epsg:32616')\n",
    "    (x1,y1,x2,y2) = cord\n",
    "    x1_new,y1_new = transform(inProj,outProj,x1,y1)\n",
    "    x2_new,y2_new = transform(inProj,outProj,x2,y2)\n",
    "    ar_new = shapely.geometry.box(x1_new, y1_new, x2_new, y2_new, ccw=True)\n",
    "    crop, cropTransform = mask(src, [ar_new], crop=True)\n",
    "    meta = src.meta.copy()\n",
    "    meta.update({\"transform\":cropTransform, \"height\":crop.shape[1], \"width\":crop.shape[2]})\n",
    "\n",
    "    with rasterio.open('Processed data/'+aoi_geojson['id'][i]+'.tif', 'w', **meta) as dst:\n",
    "        dst.write(crop)"
   ]
  },
  {
   "cell_type": "code",
   "execution_count": 5,
   "metadata": {},
   "outputs": [],
   "source": [
    "import cv2\n",
    "\n",
    "img = cv2.imread('Processed data/7a28207c.tif')\n",
    "cv2.imshow('image', img)\n",
    "cv2.waitKey(0)\n",
    "cv2.destroyAllWindows()"
   ]
  },
  {
   "cell_type": "code",
   "execution_count": 6,
   "metadata": {},
   "outputs": [
    {
     "data": {
      "text/plain": [
       "(270, 261, 3)"
      ]
     },
     "execution_count": 6,
     "metadata": {},
     "output_type": "execute_result"
    }
   ],
   "source": [
    "img.shape"
   ]
  },
  {
   "cell_type": "code",
   "execution_count": null,
   "metadata": {},
   "outputs": [],
   "source": []
  }
 ],
 "metadata": {
  "kernelspec": {
   "display_name": "Python 3",
   "language": "python",
   "name": "python3"
  },
  "language_info": {
   "codemirror_mode": {
    "name": "ipython",
    "version": 3
   },
   "file_extension": ".py",
   "mimetype": "text/x-python",
   "name": "python",
   "nbconvert_exporter": "python",
   "pygments_lexer": "ipython3",
   "version": "3.6.6"
  }
 },
 "nbformat": 4,
 "nbformat_minor": 2
}
